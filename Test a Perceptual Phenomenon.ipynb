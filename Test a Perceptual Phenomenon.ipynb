{
 "cells": [
  {
   "cell_type": "markdown",
   "metadata": {},
   "source": [
    "### Analyzing the Stroop Effect\n",
    "In a Stroop task, participants are presented with a list of words, with each word displayed in a color of ink. The participant’s task is to say out loud the color of the ink in which the word is printed. The task has two conditions: a congruent words condition, and an incongruent words condition. In the congruent words condition, the words being displayed are color words whose names match the colors in which they are printed. Here is a example:  \n",
    "![congruent](./stroopa.gif)\n",
    "\n",
    "In the incongruent words condition, the words displayed are color words whose names do not match the colors in which they are printed. An example:   \n",
    "![incongruent](./stroopb.gif)\n",
    "\n",
    "In each case, we measure the time it takes to name the ink colors in equally-sized lists. Each participant will go through and record a time from each condition.\n",
    "\n",
    "\n",
    "(1) What is the independent variable? What is the dependent variable?"
   ]
  },
  {
   "cell_type": "markdown",
   "metadata": {},
   "source": [
    "Independent variable: congruent words or incongruent words  \n",
    "Dependent variable: the time to name the ink colors"
   ]
  },
  {
   "cell_type": "markdown",
   "metadata": {},
   "source": [
    "(2) What is an appropriate set of hypotheses for this task? "
   ]
  },
  {
   "cell_type": "markdown",
   "metadata": {},
   "source": [
    "H0: $\\mu_c$ = $\\mu_i$  ($\\mu_c$-$\\mu_i$=0)  \n",
    "H1: $\\mu_c$ $<$ $\\mu_i$  ($\\mu_c$-$\\mu_i$<0)\n",
    "  \n",
    "$\\mu_c$ is the average time of population given congruent words condition, while $\\mu_i$ is the average time of population consumed under incongruent words condition.\n",
    "\n",
    "The null hypothese assumes that there is no significant difference between the average time of population under different conditions. While the alternative hypothese means that there is significatn difference and the time used in incongruent words condition is longer than that of congruent words condition.\n",
    "\n",
    "Since the same group of people attend the tests under different conditions, we will use 'dependent T-test for pared samples'. We will use the sampled time difference for one-side T-test."
   ]
  },
  {
   "cell_type": "markdown",
   "metadata": {},
   "source": [
    "(3) Report some descriptive statistics regarding this dataset. "
   ]
  },
  {
   "cell_type": "code",
   "execution_count": 1,
   "metadata": {},
   "outputs": [
    {
     "name": "stdout",
     "output_type": "stream",
     "text": [
      "The mean of congruent time is 14.0511\n",
      "The standard derivation of congruent time is 3.5594.\n",
      "The mean of incongruent time is 22.0159\n",
      "The standard derivation of incongruent time is 4.7971.\n",
      "The mean of time difference between congruent and incongruentis -7.9648\n",
      "The standard derivation is 4.8648.\n"
     ]
    }
   ],
   "source": [
    "import pandas as pd\n",
    "import matplotlib.pyplot as plt\n",
    "import scipy.stats as stats\n",
    "import numpy as np\n",
    "%matplotlib inline\n",
    "\n",
    "\n",
    "df = pd.read_csv('stroopdata.csv')\n",
    "df_c = df.Congruent\n",
    "df_i = df.Incongruent\n",
    "df['diff'] = df_c.values-df_i.values\n",
    "\n",
    "print('The mean of congruent time is {:.4f}'.format(df_c.mean()))\n",
    "print('The standard derivation of congruent time is {:.4f}.'.format(df_c.std()))\n",
    "\n",
    "print('The mean of incongruent time is {:.4f}'.format(df_i.mean()))\n",
    "print('The standard derivation of incongruent time is {:.4f}.'.format(df_i.std()))\n",
    "\n",
    "print('The mean of time difference between congruent and incongruentis {:.4f}'.format(df['diff'].mean()))\n",
    "print('The standard derivation is {:.4f}.'.format(df['diff'].std()))"
   ]
  },
  {
   "cell_type": "code",
   "execution_count": 2,
   "metadata": {},
   "outputs": [
    {
     "data": {
      "image/png": "[encoded data removed]",
      "text/plain": [
       "<matplotlib.figure.Figure at 0x5a1e400>"
      ]
     },
     "metadata": {},
     "output_type": "display_data"
    }
   ],
   "source": [
    "fig,axes = plt.subplots(1,2,figsize=(15,4))\n",
    "df[['Congruent','Incongruent']].plot(kind='hist',bins=15,grid=True,ax = axes[0], alpha=0.7)\n",
    "axes[0].set_xlabel('Time')\n",
    "df[['Congruent','Incongruent']].plot(kind='box',grid=True,ax = axes[1])\n",
    "axes[1].set_ylabel('Time');"
   ]
  },
  {
   "cell_type": "markdown",
   "metadata": {},
   "source": [
    "From the left figure, we can see obviouse different of the average time used for two conditions. The time used in incongruent words condition is more than that of in congruent words condition. The right boxplot confirmed the observation."
   ]
  },
  {
   "cell_type": "markdown",
   "metadata": {},
   "source": [
    "(5)  Perform the statistical test and report your results."
   ]
  },
  {
   "cell_type": "code",
   "execution_count": 3,
   "metadata": {},
   "outputs": [
    {
     "name": "stdout",
     "output_type": "stream",
     "text": [
      "t=-8.0207,p=4.103000585711178e-08\n"
     ]
    }
   ],
   "source": [
    "diff_time = df['diff'].values\n",
    "t,p = stats.ttest_1samp(diff_time,0)\n",
    "print('t={:.4f},p={}'.format(t,p))"
   ]
  },
  {
   "cell_type": "code",
   "execution_count": 4,
   "metadata": {},
   "outputs": [
    {
     "name": "stdout",
     "output_type": "stream",
     "text": [
      "95% confidence interval of the time difference between two conditions is (-9.9761,-5.9535)\n"
     ]
    }
   ],
   "source": [
    "dfree=len(df)-1\n",
    "t_critical = 2.069\n",
    "diff_mean = diff_time.mean()\n",
    "diff_std = diff_time.std()\n",
    "m = t_critical*diff_std/np.sqrt(len(df))\n",
    "print('95% confidence interval of the time difference between two conditions is ({:.4f},{:.4f})'.format(diff_mean-m,diff_mean+m))"
   ]
  },
  {
   "cell_type": "code",
   "execution_count": 5,
   "metadata": {},
   "outputs": [
    {
     "data": {
      "text/plain": [
       "0.73663641614450603"
      ]
     },
     "execution_count": 5,
     "metadata": {},
     "output_type": "execute_result"
    }
   ],
   "source": [
    "r_2 = t**2/(t**2+dfree)\n",
    "r_2"
   ]
  },
  {
   "cell_type": "markdown",
   "metadata": {},
   "source": [
    "**Conclusion**:\n",
    "\n",
    "1. $\\alpha$ =0.05\n",
    "2. Degree of freedom: 24-1=23\n",
    "3. T critical value: -1.741\n",
    "\n",
    "t=-8.0207  \n",
    "p = 4.103000585711178e-08\n",
    "\n",
    "The calculated t value is far less than the t-critical value and p is less $\\alpha$. We reject H0, which means that the average time is significant differenct in two conditions.\n",
    "\n",
    "Further more, the 95% confidence interval (df=23) is (-9.9761,-5.9535). Zero is not located in it, which also implies that the time used in two conditions are different. And the time of congruent condition is less than that of incongruent condition of 5.9535 to 9.9761 seconds (95% CI)\n",
    "\n",
    "From caculate $r^2$, we could know that 74% of the time difference between two conditions is due to the difference of conditions. The randomness impact is trival. "
   ]
  },
  {
   "cell_type": "code",
   "execution_count": null,
   "metadata": {
    "collapsed": true
   },
   "outputs": [],
   "source": []
  }
 ],
 "metadata": {
  "kernelspec": {
   "display_name": "Python 3",
   "language": "python",
   "name": "python3"
  },
  "language_info": {
   "codemirror_mode": {
    "name": "ipython",
    "version": 3
   },
   "file_extension": ".py",
   "mimetype": "text/x-python",
   "name": "python",
   "nbconvert_exporter": "python",
   "pygments_lexer": "ipython3",
   "version": "3.6.2"
  }
 },
 "nbformat": 4,
 "nbformat_minor": 2
}
